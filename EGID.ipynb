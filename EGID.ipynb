{
 "cells": [
  {
   "cell_type": "markdown",
   "id": "10f039c4",
   "metadata": {},
   "source": [
    "dependencies you might not have:\n",
    "\n",
    "- pip install --upgrade arabic-reshaper\n",
    "\n",
    "- pip install python-bidi"
   ]
  },
  {
   "cell_type": "code",
   "execution_count": null,
   "id": "7d66c519",
   "metadata": {},
   "outputs": [],
   "source": [
    "from EGID import GenerateID"
   ]
  },
  {
   "cell_type": "code",
   "execution_count": null,
   "id": "fd8c5fc6",
   "metadata": {},
   "outputs": [],
   "source": [
    "GenerateID(200,augment=True)"
   ]
  },
  {
   "cell_type": "code",
   "execution_count": null,
   "id": "b35f16ac",
   "metadata": {},
   "outputs": [],
   "source": []
  },
  {
   "cell_type": "code",
   "execution_count": null,
   "id": "da11e4b4",
   "metadata": {},
   "outputs": [],
   "source": []
  }
 ],
 "metadata": {
  "kernelspec": {
   "display_name": "Python 3 (ipykernel)",
   "language": "python",
   "name": "python3"
  },
  "language_info": {
   "codemirror_mode": {
    "name": "ipython",
    "version": 3
   },
   "file_extension": ".py",
   "mimetype": "text/x-python",
   "name": "python",
   "nbconvert_exporter": "python",
   "pygments_lexer": "ipython3",
   "version": "3.9.7"
  }
 },
 "nbformat": 4,
 "nbformat_minor": 5
}
