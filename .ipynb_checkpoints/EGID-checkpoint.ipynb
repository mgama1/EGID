{
 "cells": [
  {
   "cell_type": "markdown",
   "id": "10f039c4",
   "metadata": {},
   "source": [
    "dependencies you might not have:\n",
    "\n",
    "- pip install --upgrade arabic-reshaper\n",
    "\n",
    "- pip install python-bidi"
   ]
  },
  {
   "cell_type": "code",
   "execution_count": null,
   "id": "7d66c519",
   "metadata": {},
   "outputs": [],
   "source": [
    "from EGID import GenerateID"
   ]
  },
  {
   "cell_type": "code",
   "execution_count": null,
   "id": "fd8c5fc6",
   "metadata": {},
   "outputs": [],
   "source": [
    "GenerateID(200,augment=True)"
   ]
  },
  {
   "cell_type": "code",
   "execution_count": null,
   "id": "b35f16ac",
   "metadata": {},
   "outputs": [],
   "source": []
  },
  {
   "cell_type": "code",
   "execution_count": null,
   "id": "da11e4b4",
   "metadata": {},
   "outputs": [],
   "source": [
    "#in case you need more faces, run this\n",
    "#note that you have to sort the male and female faces yourself\n",
    "#or train a model to do it for you if you are invested enough\n",
    "import requests\n",
    "from PIL import Image\n",
    "from io import BytesIO\n",
    "\n",
    "# Number of images to download\n",
    "num_images = 210\n",
    "\n",
    "url = \"https://thispersondoesnotexist.com/\"\n",
    "\n",
    "# Headers to mimic a browser request\n",
    "headers = {\n",
    "    \"User-Agent\": \"Mozilla/5.0 (Windows NT 10.0; Win64; x64) AppleWebKit/537.36 (KHTML, like Gecko) Chrome/58.0.3029.110 Safari/537.3\"\n",
    "}\n",
    "\n",
    "# Path to save the images\n",
    "save_path = \"../images/\"\n",
    "\n",
    "# Loop to download images\n",
    "for i in range(num_images):\n",
    "    # Send a GET request to the website\n",
    "    response = requests.get(url, headers=headers)\n",
    "    \n",
    "    # Check if the request was successful\n",
    "    if response.status_code == 200:\n",
    "        # Create an image from the response content\n",
    "        image = Image.open(BytesIO(response.content))\n",
    "        \n",
    "        # Save the image\n",
    "        image.save(save_path + f\"image_{i}.jpg\")\n",
    "        print(f\"Downloaded image {i}\")\n",
    "    else:\n",
    "        print(f\"Failed to download image {i}\")\n",
    "\n",
    "print(\"Download complete\")\n"
   ]
  }
 ],
 "metadata": {
  "kernelspec": {
   "display_name": "Python 3 (ipykernel)",
   "language": "python",
   "name": "python3"
  },
  "language_info": {
   "codemirror_mode": {
    "name": "ipython",
    "version": 3
   },
   "file_extension": ".py",
   "mimetype": "text/x-python",
   "name": "python",
   "nbconvert_exporter": "python",
   "pygments_lexer": "ipython3",
   "version": "3.9.7"
  }
 },
 "nbformat": 4,
 "nbformat_minor": 5
}
